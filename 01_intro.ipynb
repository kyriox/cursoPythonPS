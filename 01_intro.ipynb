{
 "cells": [
  {
   "cell_type": "markdown",
   "metadata": {},
   "source": [
    "# Introducción a la programación en Python"
   ]
  },
  {
   "cell_type": "markdown",
   "metadata": {},
   "source": [
    "Python es un lenguaje interpretado, simple de utilizar, flexible y con implementación de estructuras de datos reales; licenciado bajo GPL y disponible para varios sistemas operativos."
   ]
  },
  {
   "cell_type": "markdown",
   "metadata": {},
   "source": [
    "## Resources\n",
    "\n",
    "1. https://www.anaconda.com/ (python)\n",
    "2. http://jupyter.readthedocs.io/en/latest/install.html (jupyter)\n",
    "3. goo.gl/vwNGj5 (Slides y Notebooks) \n"
   ]
  },
  {
   "cell_type": "markdown",
   "metadata": {},
   "source": [
    "## Conceptos Básicos\n",
    "\n",
    "1. Variables y tipos\n",
    "2. Operaciones básicas\n",
    "2. Control de flujo\n",
    "3. Listas\n",
    "4. Funciones (básico)"
   ]
  },
  {
   "cell_type": "markdown",
   "metadata": {},
   "source": [
    "### Variables y tipos\n",
    "No se necesitan declaraciones: Las variables son creadas al momento de la asignación."
   ]
  },
  {
   "cell_type": "code",
   "execution_count": 2,
   "metadata": {
    "collapsed": true
   },
   "outputs": [],
   "source": [
    "planeta = \"Marte\"\n",
    "luna = \"Deimos\"\n",
    "p = planeta\n",
    "i=0"
   ]
  },
  {
   "cell_type": "markdown",
   "metadata": {},
   "source": [
    "Podemos verificar el valor asignado a cada variable"
   ]
  },
  {
   "cell_type": "code",
   "execution_count": 4,
   "metadata": {},
   "outputs": [
    {
     "name": "stdout",
     "output_type": "stream",
     "text": [
      "Marte Deimos Marte\n"
     ]
    }
   ],
   "source": [
    "print(planeta,luna,p)"
   ]
  },
  {
   "cell_type": "markdown",
   "metadata": {},
   "source": [
    "Tipeado dinámico: Una variable puede referirse a diferentes tipos de valores en diferentes instantes. Podemos cambiar el valor de planeta.."
   ]
  },
  {
   "cell_type": "code",
   "execution_count": 8,
   "metadata": {},
   "outputs": [
    {
     "name": "stdout",
     "output_type": "stream",
     "text": [
      "9\n"
     ]
    }
   ],
   "source": [
    "planeta=9\n",
    "print(planeta)"
   ]
  },
  {
   "cell_type": "markdown",
   "metadata": {},
   "source": [
    "#### Posibles errores:\n",
    "\n",
    "Las variables deben tener un valor antes de ser utilizadas"
   ]
  },
  {
   "cell_type": "code",
   "execution_count": 5,
   "metadata": {},
   "outputs": [
    {
     "ename": "NameError",
     "evalue": "name 'plant' is not defined",
     "output_type": "error",
     "traceback": [
      "\u001b[0;31m---------------------------------------------------------------------------\u001b[0m",
      "\u001b[0;31mNameError\u001b[0m                                 Traceback (most recent call last)",
      "\u001b[0;32m<ipython-input-5-ff30a6395ac4>\u001b[0m in \u001b[0;36m<module>\u001b[0;34m()\u001b[0m\n\u001b[1;32m      1\u001b[0m \u001b[0mplaneta\u001b[0m \u001b[0;34m=\u001b[0m \u001b[0;34m\"Tierra\"\u001b[0m\u001b[0;34m\u001b[0m\u001b[0m\n\u001b[0;32m----> 2\u001b[0;31m \u001b[0mprint\u001b[0m\u001b[0;34m(\u001b[0m\u001b[0mplant\u001b[0m\u001b[0;34m)\u001b[0m\u001b[0;34m\u001b[0m\u001b[0m\n\u001b[0m",
      "\u001b[0;31mNameError\u001b[0m: name 'plant' is not defined"
     ]
    }
   ],
   "source": [
    "planeta = \"Tierra\"\n",
    "print(plant)"
   ]
  },
  {
   "cell_type": "markdown",
   "metadata": {},
   "source": [
    "A diferencia de otros lenguajes Python no asigna valores por defecto, debido a que esto puede ocultar posibles errores."
   ]
  },
  {
   "cell_type": "markdown",
   "metadata": {},
   "source": [
    "#### Acerca de tipos\n",
    "\n",
    "Las variables no tiene tipos, pero los valores si. Python lanzará un error si se pretende operar dos valores con tipos incompatibles."
   ]
  },
  {
   "cell_type": "code",
   "execution_count": 7,
   "metadata": {},
   "outputs": [
    {
     "name": "stdout",
     "output_type": "stream",
     "text": [
      "dos dos dos dos \n"
     ]
    }
   ],
   "source": [
    "x=\"dos \" # x es una cadena\n",
    "y=2 # y es un entero\n",
    "print(x*4) # concatenar dos veces x"
   ]
  },
  {
   "cell_type": "code",
   "execution_count": 11,
   "metadata": {},
   "outputs": [
    {
     "ename": "TypeError",
     "evalue": "Can't convert 'int' object to str implicitly",
     "output_type": "error",
     "traceback": [
      "\u001b[0;31m---------------------------------------------------------------------------\u001b[0m",
      "\u001b[0;31mTypeError\u001b[0m                                 Traceback (most recent call last)",
      "\u001b[0;32m<ipython-input-11-caf06ca62775>\u001b[0m in \u001b[0;36m<module>\u001b[0;34m()\u001b[0m\n\u001b[0;32m----> 1\u001b[0;31m \u001b[0mprint\u001b[0m\u001b[0;34m(\u001b[0m\u001b[0mx\u001b[0m\u001b[0;34m+\u001b[0m\u001b[0my\u001b[0m\u001b[0;34m)\u001b[0m \u001b[0;31m# no es posible!\u001b[0m\u001b[0;34m\u001b[0m\u001b[0m\n\u001b[0m",
      "\u001b[0;31mTypeError\u001b[0m: Can't convert 'int' object to str implicitly"
     ]
    }
   ],
   "source": [
    "print(x+y) # no es posible!"
   ]
  },
  {
   "cell_type": "markdown",
   "metadata": {},
   "source": [
    "#### Imprimir\n",
    "\n",
    "La sentencia print imprime cero o mas valores a la salida estándar. Automáticamente agrega un espacio entre casa valor y un salto de linea al final .\n"
   ]
  },
  {
   "cell_type": "code",
   "execution_count": 13,
   "metadata": {},
   "outputs": [
    {
     "name": "stdout",
     "output_type": "stream",
     "text": [
      "Marte tiene 2 satelites,\n",
      "sus nombres son: Deimos y Phobos\n"
     ]
    }
   ],
   "source": [
    "planeta = \"Marte\"\n",
    "numero_de_lunas = 2\n",
    "luna1 = \"Deimos\"\n",
    "luna2=\"Phobos\"\n",
    "print(planeta, \"tiene\", numero_de_lunas, \"satelites,\") \n",
    "print (\"sus nombres son:\", luna1, \"y\", luna2)"
   ]
  },
  {
   "cell_type": "markdown",
   "metadata": {},
   "source": [
    "####  Comillas\n",
    "\n",
    "Se utilizan comillas simples o dobles para crear cadenas. Cada cadena debe comenzar y terminar con el mismo tipo de comillas. Diferentes cadenas en el mismo program pueden utilizar diferentes tipos de comillas."
   ]
  },
  {
   "cell_type": "code",
   "execution_count": 8,
   "metadata": {},
   "outputs": [
    {
     "name": "stdout",
     "output_type": "stream",
     "text": [
      "Cita: \"Ser o no ser esa es la cuestion..\"\n"
     ]
    }
   ],
   "source": [
    "print('Cita: \\\"Ser o no ser esa es la cuestion..\\\"')"
   ]
  },
  {
   "cell_type": "markdown",
   "metadata": {},
   "source": [
    "Comillas triples, se sutilizan para crear cadenas de múltiples lineas"
   ]
  },
  {
   "cell_type": "code",
   "execution_count": 9,
   "metadata": {
    "collapsed": true
   },
   "outputs": [],
   "source": [
    "s=\"\"\"Marte, apodado a veces como el Planeta Rojo, \n",
    "     es el cuarto planeta del Sistema Solar. Es, \n",
    "en muchos aspectos, el más parecido a la Tierra.\"\"\""
   ]
  },
  {
   "cell_type": "code",
   "execution_count": 10,
   "metadata": {},
   "outputs": [
    {
     "name": "stdout",
     "output_type": "stream",
     "text": [
      "Marte, apodado a veces como el Planeta Rojo, \n",
      "     es el cuarto planeta del Sistema Solar. Es, \n",
      "en muchos aspectos, el más parecido a la Tierra.\n"
     ]
    }
   ],
   "source": [
    "print(s)"
   ]
  },
  {
   "cell_type": "markdown",
   "metadata": {},
   "source": [
    "#### Convertir valores a cadenas\n",
    "La función str convierte valores a cadenas"
   ]
  },
  {
   "cell_type": "code",
   "execution_count": 22,
   "metadata": {},
   "outputs": [
    {
     "name": "stdout",
     "output_type": "stream",
     "text": [
      "Diametro:  1280 - 1760  km\n"
     ]
    }
   ],
   "source": [
    "print(\"Diametro: \",str(1280), \"-\",str(1760), \" km\")"
   ]
  },
  {
   "cell_type": "markdown",
   "metadata": {},
   "source": [
    "Se utilizan int, float, etc para convertir valores a otros tipos."
   ]
  },
  {
   "cell_type": "code",
   "execution_count": 11,
   "metadata": {},
   "outputs": [
    {
     "name": "stdout",
     "output_type": "stream",
     "text": [
      "12\n",
      "4.0\n"
     ]
    }
   ],
   "source": [
    "print(int(12.7))\n",
    "print(float(4))"
   ]
  },
  {
   "cell_type": "markdown",
   "metadata": {},
   "source": [
    "#### Secuencias de escape\n",
    "\n",
    "Las secuencias de escape se utilizan para poner caracteres especiales como parte de cadenas.\n",
    "\n",
    "| Expresión | Significado    |\n",
    "|-----------|----------------|\n",
    "| \\\\        |backslash       |\n",
    "| \\’        |comilla simple  | \n",
    "|\\”         |comillas dobles | \n",
    "|\\b         | backspace      |\n",
    "|\\n         | salto de linea |\n",
    "|\\r         |retorno de carro| \n",
    "|\\t         |tabulador       |\n",
    "\n",
    "#### Números \n",
    "\n",
    "1. 14 entero de 32 bits\n",
    "2. 14.0 flotante de doble precisión (64 bits).\n",
    "3. 1+4j número complejo (mediante x.real y x.imag se accede a la parte real e imaginaria) \n",
    "4. 123456789L entero largo Longitud arbitraria\n",
    "\n",
    "### Operaciones \n",
    "\n",
    "#### Aritmética \n",
    "\n",
    "|Nombre|Operador|Uso| Valor|Notas|\n",
    "|:------|:--------|:---|:------:|:-----|\n",
    "|Adición|+|35+2|57|También se usa para concatenación de cadenas y listas|\n",
    "|Resta|-| 35-22|13||\n",
    "|Multiplicación|\\*|3\\*2, 'Py'\\*2|6,PyPy||\n",
    "|División|/|3.0/2, 3/2|1.5,1|división entera trunca hacia abajo.|\n",
    "| Modulo|%| 13 % 5|3|||\n",
    "\n",
    "### Lógicas\n",
    "\n",
    "* **True** y **False** son los valores de verdad\n",
    "* La cadena vacía y 0 son considerados falso\n",
    "* Casi cualquier valor es verdadero\n",
    "* Se combinan las expresiones lógicas utilizando **and**, **or** y **not**\n",
    "\n",
    " \n",
    "|Expresión|Resultado|Notas|\n",
    "|:---------|:--------|:----|\n",
    "|True or False|True||\n",
    "|True and False|False||\n",
    "|’a’ or ’b’|’a’|Detiene la evaluación después de evaluar ’a’|\n",
    "|’a’ and ’b’|’b’|No se detiene hasta que evalu ́a ’b’|\n",
    "|0 or ’b’|’b’|0 es falso, pero ’b’ es verdadero|\n",
    "|0 and ’b’|0|Como 0 es falso la evaluación se detiene|\n",
    "|0 and (1/0)|0|1/0 es un error, pero nunca se evalúa|\n",
    "|(x and ’a’) or ’b’|Depende Si x es verdadero, esta expresión es ’a’, si x es falso ’b’||\n",
    "\n",
    "**and** y **or** son operadores de corto circuito (short-circuit)\n",
    "* Evalúa expresiones de izquierda a derecha\n",
    "* Detiene la evaluación tan pronto como conoce la respuesta\n",
    "* El resultado es lo último en ser evaluado\n",
    "\n",
    "**Operador ternario:**\n",
    "*val = cond and left or right*\n",
    "* Si cond es True, se asigna left a val\n",
    "* Si cond es False, se asigna right a val."
   ]
  },
  {
   "cell_type": "code",
   "execution_count": 13,
   "metadata": {},
   "outputs": [
    {
     "name": "stdout",
     "output_type": "stream",
     "text": [
      "par\n"
     ]
    }
   ],
   "source": [
    "a=4\n",
    "x = (a%2 and \"impar\") or \"par\"\n",
    "print(x)\n",
    "a = cond ? left : right "
   ]
  },
  {
   "cell_type": "markdown",
   "metadata": {
    "collapsed": true
   },
   "source": [
    "### Comparación\n",
    "Utiliza los mismos que C, pero es posible encadenar comparaciones.\n",
    "\n",
    "|Expresión|Valor| \n",
    "|:--------|:----|\n",
    "|3 < 5   |True|\n",
    "|3.0 < 5| True|\n",
    "|3 != 5| True|\n",
    "|3 == 5| False|\n",
    "|3 < 5 <= 7| True|\n",
    "|3 < 5 \\>= 2|True (difícil de leer) \n",
    "|3 + 2j < 5|error, en números complejos sólo se pueden utilizar == y !=|"
   ]
  },
  {
   "cell_type": "markdown",
   "metadata": {
    "collapsed": true
   },
   "source": [
    "## Control de flujo\n",
    "\n",
    "### Indentación\n",
    "Porqué Python no utiliza begin/end ...?\n",
    "* Estudios muestran que todos observan la indentación\n",
    "* Es muy común encontrar recomendaciones en los libros de programación\n",
    "\n",
    "No importa el tamaño de la indentación\n",
    "* Todo en el bloque debe tener la misma indentación\n",
    "* Normalmente se utilizan 4 espacios\n",
    "\n",
    "Es preferible no usar tabulador\n",
    "* El interprete de python lo interpreta como ocho espacios\n",
    "* Editores diferentes pueden interpretarlo diferente\n",
    "  \n",
    "\n",
    "### Condicionales\n",
    "\n",
    "Python utiliza *if*, *elif* (no else if), y *else* Utiliza dos puntos(:) para indicar niveles de anidamiento."
   ]
  },
  {
   "cell_type": "code",
   "execution_count": 18,
   "metadata": {},
   "outputs": [
    {
     "name": "stdout",
     "output_type": "stream",
     "text": [
      "menor\n"
     ]
    }
   ],
   "source": [
    "a=-1\n",
    "if a < 0:\n",
    "    print('menor')\n",
    "    if a%2==0:\n",
    "        print(\"par\")\n",
    "elif a == 0:\n",
    "    print('igual')\n",
    "elif a==1:\n",
    "    print(\"es 1\")\n",
    "else:\n",
    "    print('mayor')\n",
    "    print(\"algo\")"
   ]
  },
  {
   "cell_type": "markdown",
   "metadata": {},
   "source": [
    "Repetir una operación, mientras una condición de cumpla:"
   ]
  },
  {
   "cell_type": "code",
   "execution_count": 19,
   "metadata": {},
   "outputs": [
    {
     "name": "stdout",
     "output_type": "stream",
     "text": [
      "3\n",
      "2\n",
      "1\n"
     ]
    }
   ],
   "source": [
    "num_moons = 3\n",
    "while num_moons > 0:\n",
    "    print(num_moons)\n",
    "    num_moons -= 1"
   ]
  },
  {
   "cell_type": "markdown",
   "metadata": {},
   "source": [
    "como interrumpir un ciclo"
   ]
  },
  {
   "cell_type": "code",
   "execution_count": 20,
   "metadata": {},
   "outputs": [
    {
     "name": "stdout",
     "output_type": "stream",
     "text": [
      "5\n",
      "4\n",
      "3\n",
      "2\n",
      "1\n"
     ]
    }
   ],
   "source": [
    "num_moons=5\n",
    "while True: # Parece un ciclo infinito...\n",
    "    print(num_moons)\n",
    "    num_moons -= 1\n",
    "    if num_moons <= 0:\n",
    "        break"
   ]
  },
  {
   "cell_type": "markdown",
   "metadata": {},
   "source": [
    "Se puede saltar la ejecución de una sola iteración mediante *continue*"
   ]
  },
  {
   "cell_type": "code",
   "execution_count": 21,
   "metadata": {},
   "outputs": [
    {
     "name": "stdout",
     "output_type": "stream",
     "text": [
      "top: 5\n",
      "top: 4\n",
      "...bottom: 3\n",
      "top: 3\n",
      "top: 2\n",
      "...bottom: 1\n",
      "top: 1\n"
     ]
    }
   ],
   "source": [
    "num_moons = 5\n",
    "while num_moons > 0:\n",
    "    print('top:', num_moons)\n",
    "    num_moons -= 1\n",
    "    if (num_moons % 2) == 0:\n",
    "        continue\n",
    "    print('...bottom:', num_moons)"
   ]
  },
  {
   "cell_type": "markdown",
   "metadata": {
    "collapsed": true
   },
   "source": [
    "## Listas\n",
    "\n",
    "Una lista es una secuencia mutable de objetos.\n",
    "  * Secuencia significa que puede ser indexada (Los índices comienzan en 0 como en C, Java y C#)\n",
    "  * Mutable significa que puede ser modificada sin tener que crear una copia.\n",
    "  * Puede contener cualquier tipo de datos\n",
    "  * Es semejante a un array o un vector, que se redimensiona automáticamente\n",
    "  * La función (built-in) *len* regresa la longitud de una cadena\n",
    "\n",
    "Se crean listas poniendo los valores entreparéntesis cuadrados\n",
    "* La lista vacía se escribe [ ]"
   ]
  },
  {
   "cell_type": "code",
   "execution_count": 23,
   "metadata": {},
   "outputs": [
    {
     "name": "stdout",
     "output_type": "stream",
     "text": [
      "4\n",
      "He\n",
      "['He', 'Ne', 'Ar', 'Kr']\n"
     ]
    }
   ],
   "source": [
    "gases = ['He', 'Ne', 'Ar', 'Kr']\n",
    "print(len(gases)) # Longitud de la lista\n",
    "print(gases[0]) # primer elemento de la lista\n",
    "print(gases)"
   ]
  },
  {
   "cell_type": "markdown",
   "metadata": {},
   "source": [
    "### División (slicing)\n",
    "\n",
    "Lista [inicio:fin] toma una sublista. Crea una nueva lista que contiene los elementos desde inicio hasta fin (no incluye el caracter en el índice fin)"
   ]
  },
  {
   "cell_type": "code",
   "execution_count": 62,
   "metadata": {},
   "outputs": [
    {
     "name": "stdout",
     "output_type": "stream",
     "text": [
      "Elementos 2 y 3: ['Ar', 'Kr']\n",
      "Elementos del 0 al 1 ['He', 'Ne']\n",
      "Elementos del 4 hasta el final []\n"
     ]
    }
   ],
   "source": [
    "print(\"Elementos 2 y 3:\", gases[2:4])\n",
    "print(\"Elementos del 0 al 1\", gases[:2])\n",
    "print(\"Elementos del 4 hasta el final\", gases[4:])\n"
   ]
  },
  {
   "cell_type": "markdown",
   "metadata": {},
   "source": [
    "Python siempre verifica los limites cuando se accede por índice a un solo elemento. Pero trunca cuando se toma un intervalo"
   ]
  },
  {
   "cell_type": "code",
   "execution_count": 64,
   "metadata": {},
   "outputs": [
    {
     "name": "stdout",
     "output_type": "stream",
     "text": [
      "['Ne', 'Ar', 'Kr']\n"
     ]
    },
    {
     "ename": "IndexError",
     "evalue": "list index out of range",
     "output_type": "error",
     "traceback": [
      "\u001b[0;31m---------------------------------------------------------------------------\u001b[0m",
      "\u001b[0;31mIndexError\u001b[0m                                Traceback (most recent call last)",
      "\u001b[0;32m<ipython-input-64-e710190ec946>\u001b[0m in \u001b[0;36m<module>\u001b[0;34m()\u001b[0m\n\u001b[1;32m      1\u001b[0m \u001b[0mprint\u001b[0m\u001b[0;34m(\u001b[0m\u001b[0mgases\u001b[0m\u001b[0;34m[\u001b[0m\u001b[0;36m1\u001b[0m\u001b[0;34m:\u001b[0m\u001b[0;36m20\u001b[0m\u001b[0;34m]\u001b[0m\u001b[0;34m)\u001b[0m \u001b[0;31m# trunca\u001b[0m\u001b[0;34m\u001b[0m\u001b[0m\n\u001b[0;32m----> 2\u001b[0;31m \u001b[0mprint\u001b[0m\u001b[0;34m(\u001b[0m\u001b[0mgases\u001b[0m\u001b[0;34m[\u001b[0m\u001b[0;36m20\u001b[0m\u001b[0;34m]\u001b[0m\u001b[0;34m)\u001b[0m  \u001b[0;31m# verifica (error)\u001b[0m\u001b[0;34m\u001b[0m\u001b[0m\n\u001b[0m",
      "\u001b[0;31mIndexError\u001b[0m: list index out of range"
     ]
    }
   ],
   "source": [
    "print(gases[1:20]) # trunca\n",
    "print(gases[20])  # verifica (error)"
   ]
  },
  {
   "cell_type": "markdown",
   "metadata": {},
   "source": [
    "Se pueden utilizar índices negativos! "
   ]
  },
  {
   "cell_type": "code",
   "execution_count": 24,
   "metadata": {},
   "outputs": [
    {
     "name": "stdout",
     "output_type": "stream",
     "text": [
      "['Ne', 'Ar']\n",
      "Ar\n"
     ]
    }
   ],
   "source": [
    "print(gases[1:-1]) # El último elemento\n",
    "print(gases[-2]) # El penúltimo elemento"
   ]
  },
  {
   "cell_type": "markdown",
   "metadata": {},
   "source": [
    "lista[1:2] es cualquiera de:\n",
    "\n",
    "* El segundo caracter en text\n",
    "* La cadena vacía si text no tiene segundo caracter\n",
    "\n",
    "lista[2:1]  es siempre la cadena vacía\n",
    "\n",
    "lista[1:1] desde la posición 1 pero sin incluir 1, es la cadena\n",
    "vacia\n",
    "\n",
    "lista [1:-1] Es toda la cadena menos el primer y ultimo caracter, lo cual puede ser la cadena vacía"
   ]
  },
  {
   "cell_type": "markdown",
   "metadata": {},
   "source": [
    "#### Métodos\n",
    "\n",
    "Un  método es una función que es parte de un objeto particular: \n",
    " * Ayudan a organizar el código\n",
    " * En secciones posteriores revisaremos como crear objetos\n",
    " * Casi todo en python es un objeto\n",
    "\n",
    "Para llamar un método **meth** del objeto **obj** se ejecuta escribiendo **obj.meth()**. Suponinedo que metales=[’oro’, ’hierro’, ’plomo’, ’oro’]\n",
    "\n",
    "|Método|Propósito|Ejemplo|Resultado|\n",
    "|:-----|:--------|:------|:--------|\n",
    "|append |Agrega un elemento al final|metales.append(’zinc’)|[’oro’, ’hierro’, ’plomo’, ’oro’, ’zinc’]|\n",
    "| index |Regresa el índice del elemento|metales.index(’plomo’)|2|\n",
    "|count|Cuenta cuantas veces aparece un elemento.|metales.count(’oro’)|2|\n",
    "|find|Encuentra la primera ocurrencia de un elemento|metales.find(’hierro’)|1|\n",
    "|insert|Inserta un elemento en una posición dada|metales.insert(2, ’plata’)|[’oro’, ’hierro’, ’plata’, ’plomo’, ’oro’]|\n",
    "|remove|Borra la primera ocurrencia de un elemento.|metales.remove(’oro’)|[’hierro’, ’plomo’, ’oro’]|\n",
    "|reverse|Invierte la lista en sitio.|metales.reverse()|[’oro’, ’plomo’, ’hierro’, ’oro’]|\n",
    "|sort|Ordena la lista en sitio|metales.sort()|[’hierro’, ’oro’, ’oro’, ’plomo’]|+\n",
    "\n",
    "#### Notas:\n",
    "\n",
    "* index reporta un error si el elemento no se encuentra\n",
    "* find regresa -1 si el elemento no se encuentra\n",
    "* reverse y sort modifican la lista y regresan None\n",
    "* x = x.reverse() es un erro común, en el que x es puesta a None, por tanto los datos se pierden.\n",
    "\n",
    "Borrado de elementos\n",
    "  * **del** borra un elemento de una lista (Acortar unas lista puede ocasionar problemas si se está iterando sobre ellas en ese momento.)\n",
    "  * se puede borrar rangos\n",
    "  "
   ]
  },
  {
   "cell_type": "code",
   "execution_count": 74,
   "metadata": {},
   "outputs": [
    {
     "name": "stdout",
     "output_type": "stream",
     "text": [
      "['oro', 'hierro', 'plomo', 'oro']\n",
      "['oro', 'hierro', 'plomo']\n",
      "['plomo']\n"
     ]
    }
   ],
   "source": [
    "metales=['oro', 'hierro', 'plomo', 'oro']\n",
    "print(metales)\n",
    "del metales[-1]\n",
    "print(metales)\n",
    "del metales[0:2]\n",
    "print(metales)"
   ]
  },
  {
   "cell_type": "markdown",
   "metadata": {},
   "source": [
    "#### For\n",
    "Los ciclos for en Python iteran sobre el contenido de una colección o iterador (listas, cadenas, rangos ...)\n",
    "  * *for* c in alguna-cadena asigna c cada caracter de alguna-cadena\n",
    "  * *for* v in alguna-lista asigna v a cada valor de alguna-lista\n",
    "  * Se puede utilizar cualquier nombre para la variable (c,v)"
   ]
  },
  {
   "cell_type": "code",
   "execution_count": 25,
   "metadata": {},
   "outputs": [
    {
     "name": "stdout",
     "output_type": "stream",
     "text": [
      "oro\n",
      "hierro\n",
      "plomo\n",
      "oro\n"
     ]
    }
   ],
   "source": [
    "for m in ['oro', 'hierro', 'plomo', 'oro']:\n",
    "    print(m)\n",
    "    "
   ]
  },
  {
   "cell_type": "code",
   "execution_count": 76,
   "metadata": {},
   "outputs": [
    {
     "name": "stdout",
     "output_type": "stream",
     "text": [
      "m\n",
      "e\n",
      "x\n",
      "i\n",
      "c\n",
      "o\n"
     ]
    }
   ],
   "source": [
    "for c in \"mexico\":\n",
    "    print(c)"
   ]
  },
  {
   "cell_type": "code",
   "execution_count": 26,
   "metadata": {},
   "outputs": [
    {
     "name": "stdout",
     "output_type": "stream",
     "text": [
      "0\n",
      "3\n",
      "6\n",
      "9\n",
      "12\n"
     ]
    }
   ],
   "source": [
    "for x in range(0,15,3): # range(inicio,fin,incremento)\n",
    "    print(x)"
   ]
  },
  {
   "cell_type": "markdown",
   "metadata": {},
   "source": [
    "#### Pertenencia\n",
    "x in lista opera a lista elemento a elemeto\n",
    "  * Entonces 3 in [1,2,3,4] es True\n",
    "  * Pero 5 in [1, 2, 3, 4] es False"
   ]
  },
  {
   "cell_type": "code",
   "execution_count": 79,
   "metadata": {},
   "outputs": [
    {
     "name": "stdout",
     "output_type": "stream",
     "text": [
      "True\n"
     ]
    }
   ],
   "source": [
    "print(3 in [1,2,3,4] )"
   ]
  },
  {
   "cell_type": "code",
   "execution_count": 4,
   "metadata": {},
   "outputs": [
    {
     "name": "stdout",
     "output_type": "stream",
     "text": [
      "True\n"
     ]
    }
   ],
   "source": [
    "print(5 not in [1, 2, 3, 4])"
   ]
  },
  {
   "cell_type": "markdown",
   "metadata": {},
   "source": [
    "### Tuples\n",
    "  Python tiene un segundo tipo de lista, llamado tuples. A diferencia de las listas, estos son inmutables\n",
    "  Se escriben utilizando paréntesis en lugar de paréntesis\n",
    "cuadrados: \n",
    "  * (1, 2, 3) en lugar de [1, 2, 3]\n",
    "  * () es el tuple vac ́ıo\n",
    "  * Un tuple con un elemento debe escribirse con coma, como en (55,). Debido a que (55) es el entero 55\n",
    "\n",
    "¿Por qué? Debido a que en ocaciones es necesario conocer una secuencia de valores\n",
    "\n",
    "####  Asignación múltiple de valores\n",
    "\n",
    " No son necesarios los paréntesis para los tuples\n",
    "  * 1,2,3 es lo mismo que (1,2,3)\n",
    " \n",
    "Permite asignación múltiple\n",
    "  * izq, der = ’oro’, ’plomo’ asigna ’oro’ a izq y ’plomo’ a der\n",
    "  * izq, der = (’oro’, ’plomo’)\n",
    "\n",
    "Python convierte lista a tuples si es necesario\n",
    "  * izq,mitad,der = [’oro’,hierro, ’plomo’] \\#funciona\n",
    "  * izq,mitad,der = [’oro’,’hierro’, ’plomo’] \\#funciona\n",
    "\n",
    "Intercambio de valores\n",
    "* izq, der = der, izq realiza un intercambio seguro\n",
    "  "
   ]
  },
  {
   "cell_type": "code",
   "execution_count": 31,
   "metadata": {},
   "outputs": [
    {
     "name": "stdout",
     "output_type": "stream",
     "text": [
      "[1, 2, 3]\n",
      "[3, 2, 1]\n"
     ]
    }
   ],
   "source": [
    "x=[1,2,3]\n",
    "print(x)\n",
    "x.reverse()\n",
    "print(x)"
   ]
  },
  {
   "cell_type": "code",
   "execution_count": 32,
   "metadata": {},
   "outputs": [
    {
     "name": "stdout",
     "output_type": "stream",
     "text": [
      "izq = 0 der = 1\n",
      "izq = 1 der = 0\n"
     ]
    }
   ],
   "source": [
    "izq,der=0,1\n",
    "print(\"izq =\",izq,\"der =\",der)\n",
    "izq,der=der,izq\n",
    "print(\"izq =\",izq,\"der =\",der)"
   ]
  },
  {
   "cell_type": "markdown",
   "metadata": {},
   "source": [
    "Se puede utilizar la asignación múltiple en ciclos para desempaquetar estructuras al vuelo"
   ]
  },
  {
   "cell_type": "code",
   "execution_count": 35,
   "metadata": {},
   "outputs": [
    {
     "name": "stdout",
     "output_type": "stream",
     "text": [
      "hidrogeno (H): 1.008\n",
      "helio (He): 4.003\n",
      "litio (Li): 6.941\n"
     ]
    }
   ],
   "source": [
    "elementos = [['H', 'hidrogeno', 1.008],['He', 'helio', 4.003],['Li', 'litio', 6.941]]\n",
    "for simbolo, nombre, peso in elementos:\n",
    "       print(nombre, \"(%s):\"%simbolo,peso)"
   ]
  },
  {
   "cell_type": "markdown",
   "metadata": {},
   "source": [
    "### Compresión de Listas "
   ]
  },
  {
   "cell_type": "markdown",
   "metadata": {},
   "source": [
    "Python soporta un concepto llamado *list comprehensions*. Este proceso puede ser utlizado para construir listas de forma simple, justo como lo hacen los matemáticos.\n",
    "\n",
    "+ $S = \\{x^2 : x \\in \\{0 ... 9\\}\\}$\n",
    "+ $V = (1, 2, 4, 8,\\dots, 2^{12})$\n",
    "+ $M = \\{x | x \\in S \\land x$ es par $\\}$\n",
    "\n",
    "Como lo hacemos en Python?"
   ]
  },
  {
   "cell_type": "code",
   "execution_count": 3,
   "metadata": {},
   "outputs": [
    {
     "name": "stdout",
     "output_type": "stream",
     "text": [
      "[0, 1, 4, 9, 16, 25, 36, 49, 64, 81]\n",
      "[1, 2, 4, 8, 16, 32, 64, 128, 256, 512]\n",
      "[0, 4, 16, 36, 64]\n"
     ]
    }
   ],
   "source": [
    "S=[i**2 for i in range(10)]\n",
    "V=[2**i for i in range(10)]\n",
    "M=[i for i in S if i%2==0]\n",
    "print(S)\n",
    "print(V)\n",
    "print(M)"
   ]
  },
  {
   "cell_type": "markdown",
   "metadata": {},
   "source": [
    "Un para de ejemplos más complicados:\n",
    "\n",
    "1. Generar todos los números no primos entre 0 y 50\n",
    "2. List comprehesions y asignación múltiple"
   ]
  },
  {
   "cell_type": "code",
   "execution_count": 7,
   "metadata": {},
   "outputs": [
    {
     "name": "stdout",
     "output_type": "stream",
     "text": [
      "[4, 6, 8, 10, 12, 14, 16, 18, 20, 22, 24, 26, 28, 30, 32, 34, 36, 38, 40, 42, 44, 46, 48, 6, 9, 12, 15, 18, 21, 24, 27, 30, 33, 36, 39, 42, 45, 48, 8, 12, 16, 20, 24, 28, 32, 36, 40, 44, 48, 10, 15, 20, 25, 30, 35, 40, 45, 12, 18, 24, 30, 36, 42, 48, 14, 21, 28, 35, 42, 49]\n"
     ]
    }
   ],
   "source": [
    "noprimos = [j for i in range(2, 8) for j in range(i*2, 50, i)]\n",
    "print(noprimos)"
   ]
  },
  {
   "cell_type": "markdown",
   "metadata": {},
   "source": [
    "sin compresión de listas"
   ]
  },
  {
   "cell_type": "code",
   "execution_count": 8,
   "metadata": {},
   "outputs": [
    {
     "name": "stdout",
     "output_type": "stream",
     "text": [
      "[4, 6, 8, 10, 12, 14, 16, 18, 20, 22, 24, 26, 28, 30, 32, 34, 36, 38, 40, 42, 44, 46, 48, 6, 9, 12, 15, 18, 21, 24, 27, 30, 33, 36, 39, 42, 45, 48, 8, 12, 16, 20, 24, 28, 32, 36, 40, 44, 48, 10, 15, 20, 25, 30, 35, 40, 45, 12, 18, 24, 30, 36, 42, 48, 14, 21, 28, 35, 42, 49]\n"
     ]
    }
   ],
   "source": [
    "res=[]\n",
    "for i in range(2,8):\n",
    "            for j in range(i*2,50,i):\n",
    "        res.append(j)\n",
    "print(res)"
   ]
  },
  {
   "cell_type": "markdown",
   "metadata": {},
   "source": [
    "ahora vamos a descomponer una frase en plabras y generar una lista que contenga un tuple con la palabra: en  mayusculas, minusculas y la longitud de la cadena."
   ]
  },
  {
   "cell_type": "code",
   "execution_count": 6,
   "metadata": {},
   "outputs": [
    {
     "name": "stdout",
     "output_type": "stream",
     "text": [
      "[('PABLITO', 'pablito', 7), ('CLAVO', 'clavo', 5), ('UN', 'un', 2), ('CLAVITO', 'clavito', 7), ('EN', 'en', 2), ('LA', 'la', 2), ('CALVA', 'calva', 5), ('DE', 'de', 2), ('UN', 'un', 2), ('CALVITO', 'calvito', 7)]\n"
     ]
    }
   ],
   "source": [
    "frase=\"pablito clavo un clavito en la calva de un calvito\"\n",
    "palabras=[(w.upper(),w.lower(),len(w)) for w in frase.split()]\n",
    "print(palabras)"
   ]
  },
  {
   "cell_type": "markdown",
   "metadata": {},
   "source": [
    "imprimir con saltos de línea y sin simbolos adicionales"
   ]
  },
  {
   "cell_type": "code",
   "execution_count": 10,
   "metadata": {},
   "outputs": [
    {
     "ename": "ValueError",
     "evalue": "not enough values to unpack (expected 4, got 3)",
     "output_type": "error",
     "traceback": [
      "\u001b[0;31m---------------------------------------------------------------------------\u001b[0m",
      "\u001b[0;31mValueError\u001b[0m                                Traceback (most recent call last)",
      "\u001b[0;32m<ipython-input-10-876375d1cb6d>\u001b[0m in \u001b[0;36m<module>\u001b[0;34m()\u001b[0m\n\u001b[0;32m----> 1\u001b[0;31m \u001b[0;32mfor\u001b[0m \u001b[0muw\u001b[0m\u001b[0;34m,\u001b[0m\u001b[0mlw\u001b[0m\u001b[0;34m,\u001b[0m\u001b[0mn\u001b[0m\u001b[0;34m,\u001b[0m\u001b[0mz\u001b[0m \u001b[0;32min\u001b[0m \u001b[0mpalabras\u001b[0m\u001b[0;34m:\u001b[0m\u001b[0;34m\u001b[0m\u001b[0m\n\u001b[0m\u001b[1;32m      2\u001b[0m     \u001b[0mprint\u001b[0m\u001b[0;34m(\u001b[0m\u001b[0muw\u001b[0m\u001b[0;34m,\u001b[0m\u001b[0mlw\u001b[0m\u001b[0;34m)\u001b[0m\u001b[0;34m\u001b[0m\u001b[0m\n",
      "\u001b[0;31mValueError\u001b[0m: not enough values to unpack (expected 4, got 3)"
     ]
    }
   ],
   "source": [
    "for uw,lw,n,z in palabras:\n",
    "    print(uw,lw)"
   ]
  },
  {
   "cell_type": "markdown",
   "metadata": {},
   "source": [
    "## Funciones\n",
    "\n",
    "Un lenguaje debería no puede incluir todo lo que alguien puede requerir. En lugar de eso debe permitir a los desarrolladores expresar toda abstracción que deseen [Steele 1999].\n",
    "\n",
    "En Python se define una nueva función utilizando **def**. El nombre de los parámetros va entre paréntesis"
   ]
  },
  {
   "cell_type": "code",
   "execution_count": 36,
   "metadata": {
    "collapsed": true
   },
   "outputs": [],
   "source": [
    "def multi(x,y): \n",
    "    r=x*y\n",
    "    return r"
   ]
  },
  {
   "cell_type": "code",
   "execution_count": 37,
   "metadata": {},
   "outputs": [
    {
     "data": {
      "text/plain": [
       "9"
      ]
     },
     "execution_count": 37,
     "metadata": {},
     "output_type": "execute_result"
    }
   ],
   "source": [
    "multi(3,3)"
   ]
  },
  {
   "cell_type": "code",
   "execution_count": 38,
   "metadata": {},
   "outputs": [
    {
     "data": {
      "text/plain": [
       "'holaholahola'"
      ]
     },
     "execution_count": 38,
     "metadata": {},
     "output_type": "execute_result"
    }
   ],
   "source": [
    "multi(\"hola\",3)"
   ]
  },
  {
   "cell_type": "code",
   "execution_count": 40,
   "metadata": {
    "collapsed": true
   },
   "outputs": [],
   "source": [
    "def sign(x):\n",
    "    if x < 0: \n",
    "        return -1\n",
    "    if x == 0: \n",
    "        return 0\n",
    "    return 1"
   ]
  },
  {
   "cell_type": "code",
   "execution_count": 43,
   "metadata": {},
   "outputs": [
    {
     "data": {
      "text/plain": [
       "0"
      ]
     },
     "execution_count": 43,
     "metadata": {},
     "output_type": "execute_result"
    }
   ],
   "source": [
    "sign(0)"
   ]
  },
  {
   "cell_type": "markdown",
   "metadata": {},
   "source": [
    "Las funciones con declaraciones return dispersos entre sí son difícil de entender. Es necesario leer la función línea por línea para determinar qué hace.\n",
    "En general:\n",
    "   * Utiliza *returns* previos al inicio de la función para manejar casos especiales\n",
    "   * Y posteriormente un return al final para manejar el caso en general.\n",
    "\n",
    "Las funciones con declaraciones return regresan None (Nada). De igual forma return sin parámetros regresa *None* "
   ]
  },
  {
   "cell_type": "code",
   "execution_count": 45,
   "metadata": {
    "collapsed": true
   },
   "outputs": [],
   "source": [
    "def hola(): \n",
    "    print('HOLA')\n",
    "def mundo(): \n",
    "    print('MUNDO')\n",
    "    return"
   ]
  },
  {
   "cell_type": "code",
   "execution_count": 49,
   "metadata": {},
   "outputs": [
    {
     "name": "stdout",
     "output_type": "stream",
     "text": [
      "None\n"
     ]
    }
   ],
   "source": [
    "print(x.sort())"
   ]
  },
  {
   "cell_type": "code",
   "execution_count": 111,
   "metadata": {},
   "outputs": [
    {
     "name": "stdout",
     "output_type": "stream",
     "text": [
      "MUNDO\n",
      "None\n"
     ]
    }
   ],
   "source": [
    "print(mundo())"
   ]
  },
  {
   "cell_type": "markdown",
   "metadata": {},
   "source": [
    "Las funciones no definen los tipos de sus parámetros, por tanto es responsibalidad del programador asegurarse de que maneje los datos de forma apropiada."
   ]
  },
  {
   "cell_type": "code",
   "execution_count": 122,
   "metadata": {
    "collapsed": true
   },
   "outputs": [],
   "source": [
    "def suma(a,b):\n",
    "    return a+b"
   ]
  },
  {
   "cell_type": "code",
   "execution_count": 124,
   "metadata": {},
   "outputs": [
    {
     "name": "stdout",
     "output_type": "stream",
     "text": [
      "3\n",
      "hola mundo\n",
      "[1, 2, 3, 5, 6, 7]\n"
     ]
    }
   ],
   "source": [
    "print(suma(1,2)) #suma enteros\n",
    "print(suma(\"hola \", \"mundo\")) # concatena cadenas\n",
    "print(suma([1,2,3],[5,6,7])) # concatena listas"
   ]
  },
  {
   "cell_type": "markdown",
   "metadata": {},
   "source": [
    "Como ejemplo implementemos la raíz  cuadrada utilizando el método de bisección"
   ]
  },
  {
   "cell_type": "code",
   "execution_count": 56,
   "metadata": {
    "collapsed": true
   },
   "outputs": [],
   "source": [
    "def mysqrt(n):\n",
    "    xi,xm,xf=0,n/2.0,n\n",
    "    while (abs(xm*xm-n))>0.0001:\n",
    "        if xm*xm > n:\n",
    "            xf=xm\n",
    "        else:\n",
    "            xi=xm\n",
    "        xm=(xi+xf)/2\n",
    "    return xm  "
   ]
  },
  {
   "cell_type": "code",
   "execution_count": 57,
   "metadata": {},
   "outputs": [
    {
     "data": {
      "text/plain": [
       "2.999988555908203"
      ]
     },
     "execution_count": 57,
     "metadata": {},
     "output_type": "execute_result"
    }
   ],
   "source": [
    "mysqrt(9)"
   ]
  },
  {
   "cell_type": "markdown",
   "metadata": {},
   "source": [
    "## Ejercicios\n",
    "\n",
    "1. Escriba una función que reciba un número n y regrese el producto de 1\\*2\\*3...\\**n*\n",
    "2. Escriba una funcion que dados dos número *a* y *b* calcule a\\*b, pero solo utilizando operador de suma (no utilizar el operador \\*).\n",
    "3. Implementar un método para calcular una aproximación la raíz cuadrada de un número **hint**: Recuerde el método de bisección o Newton \n",
    "4. Implementar un método para calcular una aproximación la raíz cúbica.\n",
    "5. Implementar un método para calcular una aproximación la raíz enésima.\n",
    "6. Programe un métodos que dado un entero n determine si es primo (recuerde que los números primos son aquellos que solo son divisibles entre ellos mismos y la unidad). **hint:** recuerde el ejemplo de los no primos. \n",
    "7. Utilice el método que definió en el ejercicio anterior, para escribir una función que imprima todos los números primos en un rango de 1 y hasta un número dado n."
   ]
  },
  {
   "cell_type": "code",
   "execution_count": null,
   "metadata": {
    "collapsed": true
   },
   "outputs": [],
   "source": []
  }
 ],
 "metadata": {
  "kernelspec": {
   "display_name": "Python 3",
   "language": "python",
   "name": "python3"
  },
  "language_info": {
   "codemirror_mode": {
    "name": "ipython",
    "version": 3
   },
   "file_extension": ".py",
   "mimetype": "text/x-python",
   "name": "python",
   "nbconvert_exporter": "python",
   "pygments_lexer": "ipython3",
   "version": "3.8.5"
  }
 },
 "nbformat": 4,
 "nbformat_minor": 2
}
