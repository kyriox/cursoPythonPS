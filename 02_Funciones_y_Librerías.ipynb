{
 "cells": [
  {
   "cell_type": "markdown",
   "metadata": {},
   "source": [
    "# Funciones\n",
    "\n",
    "## Alcance de variables\n",
    "\n",
    "Python organiza las variables utilizando **call stack**."
   ]
  },
  {
   "cell_type": "code",
   "execution_count": 113,
   "metadata": {
    "collapsed": true
   },
   "outputs": [],
   "source": [
    "\n",
    "rock_type = 'unknown' # Variable global\n",
    "# Función que crea  variables locales. \n",
    "def classify(rock_name):\n",
    "    if rock_name in ['basalto', 'granito']: \n",
    "        rock_type = 'ígneo'\n",
    "    elif rock_name in ['arenisca', 'esquista']: \n",
    "        rock_type = 'sedimentaria'\n",
    "    else:\n",
    "        rock_type = 'metamorfica'\n",
    "    print('el tipo de la roca es:', rock_type)"
   ]
  },
  {
   "cell_type": "code",
   "execution_count": 114,
   "metadata": {},
   "outputs": [
    {
     "name": "stdout",
     "output_type": "stream",
     "text": [
      "el tipo de la roca es: ígneo\n"
     ]
    }
   ],
   "source": [
    "classify(\"basalto\") # imprimir variable local en classify"
   ]
  },
  {
   "cell_type": "code",
   "execution_count": 115,
   "metadata": {},
   "outputs": [
    {
     "name": "stdout",
     "output_type": "stream",
     "text": [
      "unknown\n"
     ]
    }
   ],
   "source": [
    "print(rock_type) # imprimir variable global"
   ]
  },
  {
   "cell_type": "markdown",
   "metadata": {},
   "source": [
    "![Alcance de una Variable](http://dep.fie.umich.mx/~job/media/images/callStack.png)"
   ]
  },
  {
   "cell_type": "markdown",
   "metadata": {},
   "source": [
    "Cuando se invoca una función, Python crea un nuevo stack frame\n",
    "- Una tabla de pares nombre/valor\n",
    "- Los parámetros son precisamente variables locales que se inicializan automáticamente\n",
    "\n",
    "Cuando se hace referencia a una variable, Python la busca en:\n",
    "- La cima del stack frame, y después en \n",
    "- Las variables globales\n",
    "\n",
    "## Reglas de paso de parámetros\n",
    "\n",
    "Python copia los valores de las variables cuando se pasan a las funciones. Pero es importante recordar que las variables contienen referencias a listas.\n",
    " - Entonces los parámetros son aliases\n",
    " - Lo cual no es un problema para las cadenas, números y booleanos, ya que permenacen inmutables"
   ]
  },
  {
   "cell_type": "code",
   "execution_count": 116,
   "metadata": {
    "collapsed": true
   },
   "outputs": [],
   "source": [
    "def add_salt(first,second):\n",
    "    first+=\"salt\"\n",
    "    second+=[\"salt\"]"
   ]
  },
  {
   "cell_type": "code",
   "execution_count": 117,
   "metadata": {},
   "outputs": [
    {
     "name": "stdout",
     "output_type": "stream",
     "text": [
      "Antes\n",
      "Cadena: rock\n",
      "Lista: ['gneiss', 'shale']\n",
      "Después\n",
      "Cadena: rock\n",
      "Lista: ['gneiss', 'shale', 'salt']\n"
     ]
    }
   ],
   "source": [
    "cadena=\"rock\"\n",
    "lista=[\"gneiss\",\"shale\"]\n",
    "\n",
    "print(\"Antes\")\n",
    "print(\"Cadena:\",cadena)\n",
    "print(\"Lista:\", lista)\n",
    "add_salt(cadena,lista)\n",
    "print(\"Después\")\n",
    "print(\"Cadena:\",cadena)\n",
    "print(\"Lista:\", lista)\n"
   ]
  },
  {
   "cell_type": "markdown",
   "metadata": {},
   "source": [
    "![Reglas de paso de parámetros](http://dep.fie.umich.mx/~job/media/images/parPassing.png)"
   ]
  },
  {
   "cell_type": "markdown",
   "metadata": {},
   "source": [
    "### Elaboración de copias\n",
    "\n",
    " Para pasar la copia de una lista a una función se requiere dividirla (slicing)\n",
    "     - values[:] es lo mismo que values[0:len(values)] ...\n",
    "     - ... lo cual es una parte de values que incluye la lista completa...\n",
    "     - ... y dividir crea una nueva lista"
   ]
  },
  {
   "cell_type": "code",
   "execution_count": 118,
   "metadata": {},
   "outputs": [
    {
     "name": "stdout",
     "output_type": "stream",
     "text": [
      "Antes\n",
      "Cadena: rock\n",
      "Lista: ['gneiss', 'shale']\n",
      "Después\n",
      "Cadena: rock\n",
      "Lista: ['gneiss', 'shale']\n"
     ]
    }
   ],
   "source": [
    "cadena=\"rock\"\n",
    "lista=[\"gneiss\",\"shale\"]\n",
    "\n",
    "print(\"Antes\")\n",
    "print(\"Cadena:\",cadena)\n",
    "print(\"Lista:\", lista)\n",
    "add_salt(cadena,lista[:])\n",
    "print(\"Después\")\n",
    "print(\"Cadena:\",cadena)\n",
    "print(\"Lista:\", lista)"
   ]
  },
  {
   "cell_type": "markdown",
   "metadata": {},
   "source": [
    "![Elaboración de copias](http://dep.fie.umich.mx/~job/media/images/copy.png)"
   ]
  },
  {
   "cell_type": "markdown",
   "metadata": {},
   "source": [
    "## Valores por defecto\n",
    "\n",
    "Al definir una función se pueden especificar valores por defecto para los parámetros\n",
    "- Sólo se requiere “asignar” algún valor al parámetro en la definición\n",
    "\n",
    "Los parámetros que realmente se pasan cuando se llama a una función son asignados (matched up) de izquierda a derecha.\n",
    "- Todos los parámetros con valores por defecto deben estar después de todos los parámetros sin valores por defecto.\n",
    "- De lo contrario asignar valores a los parámetros\n"
   ]
  },
  {
   "cell_type": "code",
   "execution_count": 119,
   "metadata": {
    "collapsed": true
   },
   "outputs": [],
   "source": [
    "def total(valores, inicio=0, fin=None):\n",
    "    # Si no hay valores, total el cero\n",
    "    if not valores:\n",
    "        return 0\n",
    "    # si no se especifica el fin, se utiliza la secuencia completa.\n",
    "    if fin is None:\n",
    "        fin=len(valores)\n",
    "    # Calcular el resultado\n",
    "    resultado= 0\n",
    "    for i in range(inicio,fin):\n",
    "        resultado+=valores[i]\n",
    "    return resultado"
   ]
  },
  {
   "cell_type": "code",
   "execution_count": 120,
   "metadata": {
    "collapsed": true
   },
   "outputs": [],
   "source": [
    "numeros=[10,20,30,40]"
   ]
  },
  {
   "cell_type": "code",
   "execution_count": 121,
   "metadata": {},
   "outputs": [
    {
     "name": "stdout",
     "output_type": "stream",
     "text": [
      "total(numeros,0,4): 100\n",
      "total(numeros,2): 70\n",
      "total(numeros): 100\n",
      "total(numeros,0,2): 30\n"
     ]
    }
   ],
   "source": [
    "print(\"total(numeros,0,4):\",total(numeros,0,4))\n",
    "print(\"total(numeros,2):\",total(numeros,2))\n",
    "print(\"total(numeros):\",total(numeros))\n",
    "print(\"total(numeros,0,2):\",total(numeros,fin=2))\n"
   ]
  },
  {
   "cell_type": "markdown",
   "metadata": {},
   "source": [
    "## Funciones como parámetros\n",
    "\n",
    "Las funciones son sólo un objeto más\n",
    "- Pasan a ser un objeto que se puede llamar, tal como las cadenas y listas pasan a ser objetos que se pueden indexar\n",
    "- **def** es simplemente una forma breve de \"crear una función y asignarla a una variable"
   ]
  },
  {
   "cell_type": "code",
   "execution_count": 122,
   "metadata": {
    "collapsed": true
   },
   "outputs": [],
   "source": [
    "def circunferencia(r):\n",
    "    return 2*3.14159*r"
   ]
  },
  {
   "cell_type": "code",
   "execution_count": 123,
   "metadata": {},
   "outputs": [
    {
     "name": "stdout",
     "output_type": "stream",
     "text": [
      "circunferencia(1) 6.28318\n",
      "circ(1) 6.28318\n"
     ]
    }
   ],
   "source": [
    "circ = circunferencia # Crear un alias de la función circinferencia\n",
    "print(\"circunferencia(1)\", circunferencia(1))\n",
    "print(\"circ(1)\", circ(1))"
   ]
  },
  {
   "cell_type": "markdown",
   "metadata": {},
   "source": [
    "El que las funciones sean objetos implica que:\n",
    "- Redefinir funciones (tal como es posible reasignar valores a las variables\n",
    "- Crear alias para las funciones\n",
    "- Pasar funciones como parámetros \n",
    "- Almacenar funciones en listas\n",
    "\n",
    "### Ejemplos de funciones como parámetros\n",
    "\n",
    "- Como aplicar una función a cada valor de una lista:"
   ]
  },
  {
   "cell_type": "code",
   "execution_count": 124,
   "metadata": {
    "collapsed": true
   },
   "outputs": [],
   "source": [
    "def apply_to_list(funcion, lista):\n",
    "    resultado=[]\n",
    "    for x in lista:\n",
    "        resultado.append(funcion(x))\n",
    "    return resultado"
   ]
  },
  {
   "cell_type": "code",
   "execution_count": 125,
   "metadata": {},
   "outputs": [
    {
     "data": {
      "text/plain": [
       "[6.28318, 18.849539999999998, 31.4159, 43.98226, 56.54862]"
      ]
     },
     "execution_count": 125,
     "metadata": {},
     "output_type": "execute_result"
    }
   ],
   "source": [
    "radios=[1,3,5,7,9]\n",
    "apply_to_list(circ,radios)"
   ]
  },
  {
   "cell_type": "markdown",
   "metadata": {},
   "source": [
    "- aplicar varias funciones a un solo valor "
   ]
  },
  {
   "cell_type": "code",
   "execution_count": 126,
   "metadata": {
    "collapsed": true
   },
   "outputs": [],
   "source": [
    "def area(r):\n",
    "    return 3.14159*r**2\n",
    "\n",
    "def diametro(r):\n",
    "    return 2*r\n",
    "\n",
    "def apply_each(funciones,valor):\n",
    "    return [f(valor) for f in funciones]"
   ]
  },
  {
   "cell_type": "code",
   "execution_count": 127,
   "metadata": {},
   "outputs": [
    {
     "data": {
      "text/plain": [
       "[2, 6.28318, 3.14159]"
      ]
     },
     "execution_count": 127,
     "metadata": {},
     "output_type": "execute_result"
    }
   ],
   "source": [
    "r=1\n",
    "apply_each([diametro,circunferencia,area],r)"
   ]
  },
  {
   "cell_type": "markdown",
   "metadata": {},
   "source": [
    "* ¿Cómo puede implementar una función que aplicque un lista de funciones a una lista de valores?"
   ]
  },
  {
   "cell_type": "markdown",
   "metadata": {
    "collapsed": true
   },
   "source": [
    "### Atributos de funciones\n",
    "\n",
    "Toda función tiene un atributo llamado **__name__**. Este es el nombre con el cual fue originalmente definida."
   ]
  },
  {
   "cell_type": "code",
   "execution_count": 128,
   "metadata": {
    "collapsed": true
   },
   "outputs": [],
   "source": [
    "def sedimentaria():\n",
    "    return ['sandstone','shale']\n",
    "alias=sedimentaria"
   ]
  },
  {
   "cell_type": "code",
   "execution_count": 129,
   "metadata": {},
   "outputs": [
    {
     "name": "stdout",
     "output_type": "stream",
     "text": [
      "Nombre original: sedimentaria\n",
      "Nombre del alias: sedimentaria\n"
     ]
    }
   ],
   "source": [
    "print(\"Nombre original:\", sedimentaria.__name__)\n",
    "print(\"Nombre del alias:\", alias.__name__)"
   ]
  },
  {
   "cell_type": "markdown",
   "metadata": {},
   "source": [
    "## Modulos\n",
    "\n",
    "Todo archivo Python también es automácamente un modulo (o librería) –  Si el archivo se llama geology.py, se carga utilizando **import geology**\n",
    "\n",
    "- Se refiere a su contenido como geology.thing \n",
    "- Tal como los métodos y atributos de un objeto\n",
    "\n",
    "Agregando las siguientes líneas de código en *geology.py*"
   ]
  },
  {
   "cell_type": "code",
   "execution_count": 130,
   "metadata": {
    "collapsed": true
   },
   "outputs": [],
   "source": [
    "# Por ahora no definiremos modulos \n",
    "# sin embargo todas la librerías es similar al uso de modulos!\n",
    "def tipo_de_roca(rock_name):      \n",
    "    if rock_name in ['basalto', 'granito']: \n",
    "        rock_type = 'ígneo'\n",
    "    elif rock_name in ['arenisca', 'esquista']: \n",
    "        rock_type = 'sedimentaria'\n",
    "    else:\n",
    "        rock_type = 'metamorfica'\n",
    "    print('el tipo de la roca es:', rock_type)"
   ]
  },
  {
   "cell_type": "markdown",
   "metadata": {},
   "source": [
    "Podríamos utilizar los métodos deifnidos en *geology* utilizando:"
   ]
  },
  {
   "cell_type": "code",
   "execution_count": 131,
   "metadata": {},
   "outputs": [
    {
     "name": "stdout",
     "output_type": "stream",
     "text": [
      "el tipo de la roca es: sedimentaria\n",
      "arenisca es None\n",
      "el tipo de la roca es: ígneo\n",
      "basalto es None\n"
     ]
    }
   ],
   "source": [
    "# Este código no funciona porque no hemos creado el archivo \n",
    "# geology.py\n",
    "import geology\n",
    "for rock in ['arenisca','basalto']:\n",
    "    print(rock,\"es\",tipo_de_roca(rock))"
   ]
  },
  {
   "cell_type": "markdown",
   "metadata": {},
   "source": [
    "### Otras formas de importar\n",
    "\n",
    "* import geology as g, posteriormente se invoca g.print_version()\n",
    "* from geology import print_version, posteriormente se invoca print_version()\n",
    "* from geology import * #importa todo de geology\n",
    "\n",
    "### Auto-identificación\n",
    "Dentro de un módulo, **\\_\\_name\\_\\_** está definido como:\n",
    "- El nombre del módulo, si éste se importa\n",
    "- O la cadena **\\_\\_main\\_\\_**, si es el programa principal (main)\n",
    "\n",
    "Frecuentemente utilizado para incluir auto-pruebas en el módulo\n",
    "- Se ejecutan las auto-pruebas cuando el módulo se corre de la línea de comandos\n",
    "- Las pruebas se omiten cuando otro código carga el módulo\n",
    "\n",
    "Por ejemplo si incluimos lo siguiente en *geology.py*"
   ]
  },
  {
   "cell_type": "code",
   "execution_count": 132,
   "metadata": {},
   "outputs": [
    {
     "name": "stdout",
     "output_type": "stream",
     "text": [
      "Pass\n",
      "Pass\n",
      "Pass\n",
      "Pass\n"
     ]
    }
   ],
   "source": [
    "def is_rock(r):\n",
    "    return r in [\"basalt\",\"granite\",\"sandstone\",\"shale\"]\n",
    "\n",
    "if __name__==\"__main__\":\n",
    "    tests=[[\"basalt\",True],[\"granite\",True],\n",
    "           [\"grass\",False],[\"sugar\",False]]\n",
    "    for r,v in tests:\n",
    "        if v==is_rock(r):\n",
    "            print(\"Pass\")"
   ]
  },
  {
   "cell_type": "markdown",
   "metadata": {},
   "source": [
    "Si importamos desde el notebook no se ejecuta la función **main**."
   ]
  },
  {
   "cell_type": "code",
   "execution_count": 133,
   "metadata": {
    "collapsed": true
   },
   "outputs": [],
   "source": [
    "import geology"
   ]
  },
  {
   "cell_type": "markdown",
   "metadata": {},
   "source": [
    "Pero sí desde una terminal\n",
    "\n",
    "- python geology.py\n",
    "\n",
    "![Terminal](http://dep.fie.umich.mx/~job/media/images/terminal.png)"
   ]
  },
  {
   "cell_type": "markdown",
   "metadata": {},
   "source": [
    "## Sistemas de librerías\n",
    "\n",
    "La librería más comúnmente utilizada en Python es la del sistema sys\n",
    "- Información acerca del intérprete de Python (tal como el número de versión y copyright)\n",
    "- Información acerca del ambiente (tal como el sistema operativo donde corre el programa)\n",
    "- Caracterísicas avanzadas que simples mortales nunca deberían manipular"
   ]
  },
  {
   "cell_type": "markdown",
   "metadata": {},
   "source": [
    "![Librería sys 1](http://dep.fie.umich.mx/~job/media/images/sys1.png)\n",
    "![Librería sys 2](http://dep.fie.umich.mx/~job/media/images/sys2.png)"
   ]
  },
  {
   "attachments": {
    "image.png": {
     "image/png": "[encoded data removed]"
    }
   },
   "cell_type": "markdown",
   "metadata": {},
   "source": [
    "### Librería math\n",
    "\n",
    "* Mucho de la librería estándar de Python es un envoltorio de las librerías standard de C\n",
    "![image.png](attachment:image.png)\n"
   ]
  },
  {
   "cell_type": "code",
   "execution_count": 134,
   "metadata": {},
   "outputs": [
    {
     "name": "stdout",
     "output_type": "stream",
     "text": [
      "2.718281828459045\n",
      "1.3862943611198906\n",
      "2.0\n"
     ]
    }
   ],
   "source": [
    "import math\n",
    "print(math.e) # Constante de euler\n",
    "print(math.log(4)) # Log base e\n",
    "print(math.log(4,2))# Log base 2"
   ]
  },
  {
   "cell_type": "markdown",
   "metadata": {},
   "source": [
    "### Librería NumPy\n",
    "\n",
    "NumPy proporciona una implemetación para arraglos N-dimesionales, la cual descirbe una colección de *items* homogéneos. Estos  arreglos pueden ser indizados de igual forma que los arreglos estándar de python. Los array de NumPy son más versatiles en cuanto a su indezación e implementan muchas funciones de algebra lineal (importantes dentro de machnine learning!)\n",
    "\n",
    "#### Creación de arreglos "
   ]
  },
  {
   "cell_type": "code",
   "execution_count": 135,
   "metadata": {},
   "outputs": [
    {
     "data": {
      "text/plain": [
       "numpy.ndarray"
      ]
     },
     "execution_count": 135,
     "metadata": {},
     "output_type": "execute_result"
    }
   ],
   "source": [
    "import numpy as np\n",
    "d=[[1, 2, 3], [4, 5, 6]] # python array de enteros de 2 filas y 3 columnas\n",
    "nd = np.array(d, np.int32) # array de enteros de 2 filas y 3 columnas\n",
    "type(nd) # verificando el tipo"
   ]
  },
  {
   "cell_type": "code",
   "execution_count": 136,
   "metadata": {},
   "outputs": [
    {
     "data": {
      "text/plain": [
       "(2, 3)"
      ]
     },
     "execution_count": 136,
     "metadata": {},
     "output_type": "execute_result"
    }
   ],
   "source": [
    "nd.shape  # dimensiones de nd (filas,columnas)"
   ]
  },
  {
   "cell_type": "code",
   "execution_count": 137,
   "metadata": {},
   "outputs": [
    {
     "data": {
      "text/plain": [
       "dtype('int32')"
      ]
     },
     "execution_count": 137,
     "metadata": {},
     "output_type": "execute_result"
    }
   ],
   "source": [
    "nd.dtype # tipo de datos en nd"
   ]
  },
  {
   "cell_type": "markdown",
   "metadata": {},
   "source": [
    "se puede indezar como un arreglo de python"
   ]
  },
  {
   "cell_type": "code",
   "execution_count": 138,
   "metadata": {},
   "outputs": [
    {
     "data": {
      "text/plain": [
       "6"
      ]
     },
     "execution_count": 138,
     "metadata": {},
     "output_type": "execute_result"
    }
   ],
   "source": [
    "nd[1,2] # el elemento en la posición 1,2"
   ]
  },
  {
   "cell_type": "code",
   "execution_count": 139,
   "metadata": {},
   "outputs": [
    {
     "data": {
      "text/plain": [
       "array([4, 5, 6], dtype=int32)"
      ]
     },
     "execution_count": 139,
     "metadata": {},
     "output_type": "execute_result"
    }
   ],
   "source": [
    "nd[1,:] # toda la fila 2"
   ]
  },
  {
   "cell_type": "markdown",
   "metadata": {},
   "source": [
    "indezado versatil"
   ]
  },
  {
   "cell_type": "code",
   "execution_count": 140,
   "metadata": {},
   "outputs": [
    {
     "data": {
      "text/plain": [
       "array([4, 6], dtype=int32)"
      ]
     },
     "execution_count": 140,
     "metadata": {},
     "output_type": "execute_result"
    }
   ],
   "source": [
    "nd[1,[0,2]] # los elementos 0 y 2 de la fila 1 "
   ]
  },
  {
   "cell_type": "code",
   "execution_count": 141,
   "metadata": {},
   "outputs": [
    {
     "data": {
      "text/plain": [
       "array([2, 5], dtype=int32)"
      ]
     },
     "execution_count": 141,
     "metadata": {},
     "output_type": "execute_result"
    }
   ],
   "source": [
    "nd[[0,1],1] # los elementos en la culumna 1 de las dos filas"
   ]
  },
  {
   "cell_type": "code",
   "execution_count": 142,
   "metadata": {},
   "outputs": [
    {
     "ename": "NameError",
     "evalue": "name 'x' is not defined",
     "output_type": "error",
     "traceback": [
      "\u001b[0;31m---------------------------------------------------------------------------\u001b[0m",
      "\u001b[0;31mNameError\u001b[0m                                 Traceback (most recent call last)",
      "\u001b[0;32m<ipython-input-142-9c821db01386>\u001b[0m in \u001b[0;36m<module>\u001b[0;34m()\u001b[0m\n\u001b[0;32m----> 1\u001b[0;31m \u001b[0mx\u001b[0m\u001b[0;34m[\u001b[0m\u001b[0;34m[\u001b[0m\u001b[0;36m0\u001b[0m\u001b[0;34m,\u001b[0m\u001b[0;36m1\u001b[0m\u001b[0;34m]\u001b[0m\u001b[0;34m,\u001b[0m\u001b[0;36m1\u001b[0m\u001b[0;34m]\u001b[0m \u001b[0;31m# no es posible en arreglos de python!\u001b[0m\u001b[0;34m\u001b[0m\u001b[0m\n\u001b[0m",
      "\u001b[0;31mNameError\u001b[0m: name 'x' is not defined"
     ]
    }
   ],
   "source": [
    "x[[0,1],1] # no es posible en arreglos de python!"
   ]
  },
  {
   "cell_type": "markdown",
   "metadata": {},
   "source": [
    "#### Aritmética,  multiplicación de matrices y operadores de comparación\n",
    "\n",
    "Las opercaiones aritméticas y de comparación en numpy array estan definidas elemento a elemento, y por lo general regresan un arreglo de numpy como salida.\n",
    "Cada operacion aritmética **(+, -, \\*, /, //, %, divmod(), \\*\\* or pow(), <<, >>, &, ^, |, ~)** y de comparación **(==, <, >, <=, >=, !=)**. Todas son implementada como parte del conjunto de funciones universales (Para más información consultar https://docs.scipy.org/doc/numpy-1.13.0/reference/ufuncs.html#ufuncs)."
   ]
  },
  {
   "cell_type": "code",
   "execution_count": null,
   "metadata": {},
   "outputs": [],
   "source": [
    "a=np.array([1,3,5,7,9])\n",
    "b=np.array([0,2,4,6,8])\n",
    "# todos los elementos en b son menores que los elementos en a \n",
    "#(elemento a elemento como la suma vectorial)\n",
    "b<=a "
   ]
  },
  {
   "cell_type": "code",
   "execution_count": null,
   "metadata": {},
   "outputs": [],
   "source": [
    "b/a # división elemento a elemento"
   ]
  },
  {
   "cell_type": "code",
   "execution_count": null,
   "metadata": {},
   "outputs": [],
   "source": [
    "m=np.array([a,b])\n",
    "print(m)"
   ]
  },
  {
   "cell_type": "code",
   "execution_count": null,
   "metadata": {},
   "outputs": [],
   "source": [
    "m*m #Elemento a elemento = no es multiplicación matricial! "
   ]
  },
  {
   "cell_type": "markdown",
   "metadata": {},
   "source": [
    "Para operraciones matriciales tiene implementado un conjuto de métodos asociados al obejeto *ndarray*. \n",
    "\n",
    "Por ejemplo la multiplicación matricial:"
   ]
  },
  {
   "cell_type": "code",
   "execution_count": null,
   "metadata": {},
   "outputs": [],
   "source": [
    "m.dot(m) # claro que falla"
   ]
  },
  {
   "cell_type": "code",
   "execution_count": null,
   "metadata": {},
   "outputs": [],
   "source": [
    "m.dot(m.transpose()) # esto ocurre debido a?"
   ]
  },
  {
   "cell_type": "markdown",
   "metadata": {},
   "source": [
    "Puede consultar todos los métodos disponibles en:\n",
    "\n",
    "https://docs.scipy.org/doc/numpy-1.13.0/reference/arrays.ndarray.html"
   ]
  },
  {
   "cell_type": "markdown",
   "metadata": {},
   "source": [
    "### Librería para graficar (**matplotlib**)\n",
    "\n",
    "Es una librería para graficación 2D la cual produce figuras en una amplia variedad de formatos."
   ]
  },
  {
   "cell_type": "code",
   "execution_count": 1,
   "metadata": {},
   "outputs": [
    {
     "data": {
      "image/png": "[encoded data removed]",
      "text/plain": [
       "<Figure size 432x288 with 1 Axes>"
      ]
     },
     "metadata": {
      "needs_background": "light"
     },
     "output_type": "display_data"
    }
   ],
   "source": [
    "import matplotlib.pyplot as plt #importar función para graficar \n",
    "import numpy as np\n",
    "\n",
    "t = np.arange(0.0, 2.0, 0.01) # rango numpy\n",
    "s = 1 + np.sin(2*np.pi*t) # calcular seno para el rango\n",
    "plt.plot(t, s) # graficar\n",
    "\n",
    "plt.xlabel('tiempo (s)') # agregar etiqueta en el ejejx\n",
    "plt.ylabel('voltage (mV)')\n",
    "plt.title('About as simple as it gets, folks') # poner titulo\n",
    "plt.grid(True) # agregar  malla\n",
    "plt.savefig(\"test.png\") # guardar en formato png\n",
    "plt.show() # mostrar en el notebook"
   ]
  },
  {
   "cell_type": "markdown",
   "metadata": {},
   "source": [
    "* Gráfica de pastel"
   ]
  },
  {
   "cell_type": "code",
   "execution_count": 2,
   "metadata": {},
   "outputs": [
    {
     "data": {
      "image/png": "[encoded data removed]",
      "text/plain": [
       "<Figure size 432x288 with 1 Axes>"
      ]
     },
     "metadata": {},
     "output_type": "display_data"
    }
   ],
   "source": [
    "# Se grafican en sentido de las manecillas del reloj\n",
    "etiquetas = ['Ranas', 'Cerdos', 'Perros', 'Gatos']\n",
    "sizes = [15, 30, 45, 10]\n",
    "explode = (0, 0.1, 0, 0)  # Resaltar la parte de Cerdos\n",
    "fig1, ax1 = plt.subplots() # subplot, se define un objeto fig y los ejes\n",
    "ax1.pie(sizes, explode=explode, labels=etiquetas, shadow=True, \n",
    "        startangle=90); # agregamos el paste\n",
    "ax1.axis('equal');  # Aspecto uniforme.\n",
    "\n",
    "plt.show()\n"
   ]
  },
  {
   "cell_type": "code",
   "execution_count": 3,
   "metadata": {},
   "outputs": [
    {
     "data": {
      "image/png": "[encoded data removed]",
      "text/plain": [
       "<Figure size 432x288 with 1 Axes>"
      ]
     },
     "metadata": {
      "needs_background": "light"
     },
     "output_type": "display_data"
    }
   ],
   "source": [
    "# Figuras geometicas\n",
    "from matplotlib.patches import Ellipse,Rectangle,Arrow, Polygon,Wedge\n",
    "\n",
    "n = 50\n",
    "\n",
    "#elipses = [Ellipse(xy=np.random.rand(2) * 10,\n",
    "#                width=np.random.rand(), height=np.random.rand(),\n",
    "#                angle=np.random.rand() * 360)\n",
    "#        for i in range(n)]\n",
    "figuras=[Ellipse(xy=[2,2],width=3,height=5,angle=np.random.rand() * 360),\n",
    "         Rectangle(xy=[5,3],width=4,height=2,angle=np.random.rand() * 360),\n",
    "         Arrow(x=3, y=3, dx=7, dy=4, width=1),\n",
    "         Polygon(np.random.rand(5, 2)*10, True),\n",
    "         Wedge((3, 7), 1, 0, 360),             # Circulo\n",
    "        Wedge((7, 8), 2, 0, 360, width=0.5),  # Aro\n",
    "        Wedge((8, 3), 2, 0, 45),              # Sector\n",
    "        Wedge((3, 3), 2, 45, 90, width=1),  # Sector-Aro\n",
    "         \n",
    "        ]\n",
    "fig, ax = plt.subplots(subplot_kw={'aspect': 'equal'});\n",
    "for e in figuras:\n",
    "    ax.add_artist(e)\n",
    "    e.set_clip_box(ax.bbox)\n",
    "    e.set_alpha(np.random.rand())\n",
    "    e.set_facecolor(np.random.rand(3))\n",
    "\n",
    "ax.set_xlim(0, 10)\n",
    "ax.set_ylim(0, 10)\n",
    "\n",
    "plt.show()\n"
   ]
  },
  {
   "cell_type": "markdown",
   "metadata": {},
   "source": [
    "* Referencia del api matplotlib: https://matplotlib.org/api/"
   ]
  },
  {
   "cell_type": "code",
   "execution_count": null,
   "metadata": {
    "collapsed": true
   },
   "outputs": [],
   "source": []
  }
 ],
 "metadata": {
  "kernelspec": {
   "display_name": "Python 3",
   "language": "python",
   "name": "python3"
  },
  "language_info": {
   "codemirror_mode": {
    "name": "ipython",
    "version": 3
   },
   "file_extension": ".py",
   "mimetype": "text/x-python",
   "name": "python",
   "nbconvert_exporter": "python",
   "pygments_lexer": "ipython3",
   "version": "3.8.5"
  }
 },
 "nbformat": 4,
 "nbformat_minor": 2
}
